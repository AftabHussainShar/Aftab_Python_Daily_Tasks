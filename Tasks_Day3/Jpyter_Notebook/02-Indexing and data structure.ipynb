{
 "cells": [
  {
   "cell_type": "markdown",
   "id": "820afe18",
   "metadata": {},
   "source": [
    "##  - Indexing"
   ]
  },
  {
   "cell_type": "code",
   "execution_count": 1,
   "id": "842e4612",
   "metadata": {},
   "outputs": [],
   "source": [
    "a=\"Aftab hussain\""
   ]
  },
  {
   "cell_type": "code",
   "execution_count": 2,
   "id": "1701f9df",
   "metadata": {},
   "outputs": [
    {
     "data": {
      "text/plain": [
       "'Aftab hussain'"
      ]
     },
     "execution_count": 2,
     "metadata": {},
     "output_type": "execute_result"
    }
   ],
   "source": [
    "a"
   ]
  },
  {
   "cell_type": "code",
   "execution_count": 3,
   "id": "fd834af0",
   "metadata": {
    "scrolled": false
   },
   "outputs": [
    {
     "data": {
      "text/plain": [
       "'f'"
      ]
     },
     "execution_count": 3,
     "metadata": {},
     "output_type": "execute_result"
    }
   ],
   "source": [
    "a[1]"
   ]
  },
  {
   "cell_type": "code",
   "execution_count": 4,
   "id": "0cbb72e8",
   "metadata": {
    "scrolled": true
   },
   "outputs": [
    {
     "data": {
      "text/plain": [
       "'n'"
      ]
     },
     "execution_count": 4,
     "metadata": {},
     "output_type": "execute_result"
    }
   ],
   "source": [
    "a[12]"
   ]
  },
  {
   "cell_type": "markdown",
   "id": "9389d91d",
   "metadata": {},
   "source": [
    "### - length of indeces"
   ]
  },
  {
   "cell_type": "code",
   "execution_count": 5,
   "id": "237bac52",
   "metadata": {
    "scrolled": true
   },
   "outputs": [
    {
     "data": {
      "text/plain": [
       "13"
      ]
     },
     "execution_count": 5,
     "metadata": {},
     "output_type": "execute_result"
    }
   ],
   "source": [
    "len(a)"
   ]
  },
  {
   "cell_type": "markdown",
   "id": "4343ec5a",
   "metadata": {},
   "source": [
    "## - Ratio to print in range"
   ]
  },
  {
   "cell_type": "code",
   "execution_count": 7,
   "id": "0ab50753",
   "metadata": {},
   "outputs": [
    {
     "data": {
      "text/plain": [
       "'Aftab'"
      ]
     },
     "execution_count": 7,
     "metadata": {},
     "output_type": "execute_result"
    }
   ],
   "source": [
    "a[0:5]"
   ]
  },
  {
   "cell_type": "code",
   "execution_count": 10,
   "id": "aeb008fa",
   "metadata": {},
   "outputs": [
    {
     "data": {
      "text/plain": [
       "'Aftab hussain'"
      ]
     },
     "execution_count": 10,
     "metadata": {},
     "output_type": "execute_result"
    }
   ],
   "source": [
    "a[0:13]"
   ]
  },
  {
   "cell_type": "code",
   "execution_count": 14,
   "id": "563ae3b9",
   "metadata": {},
   "outputs": [
    {
     "data": {
      "text/plain": [
       "'hussain'"
      ]
     },
     "execution_count": 14,
     "metadata": {},
     "output_type": "execute_result"
    }
   ],
   "source": [
    "a[-7:13]"
   ]
  },
  {
   "cell_type": "markdown",
   "id": "b23f10e0",
   "metadata": {},
   "source": [
    "# Strings method"
   ]
  },
  {
   "cell_type": "code",
   "execution_count": 15,
   "id": "2f5751ce",
   "metadata": {},
   "outputs": [],
   "source": [
    "food=\"Apple\""
   ]
  },
  {
   "cell_type": "code",
   "execution_count": 16,
   "id": "72d76801",
   "metadata": {},
   "outputs": [
    {
     "data": {
      "text/plain": [
       "'Apple'"
      ]
     },
     "execution_count": 16,
     "metadata": {},
     "output_type": "execute_result"
    }
   ],
   "source": [
    "food"
   ]
  },
  {
   "cell_type": "code",
   "execution_count": 17,
   "id": "c9ec1070",
   "metadata": {},
   "outputs": [
    {
     "data": {
      "text/plain": [
       "5"
      ]
     },
     "execution_count": 17,
     "metadata": {},
     "output_type": "execute_result"
    }
   ],
   "source": [
    "# to find length\n",
    "len(food)"
   ]
  },
  {
   "cell_type": "code",
   "execution_count": 23,
   "id": "3cd479a9",
   "metadata": {
    "scrolled": true
   },
   "outputs": [
    {
     "data": {
      "text/plain": [
       "'Apple'"
      ]
     },
     "execution_count": 23,
     "metadata": {},
     "output_type": "execute_result"
    }
   ],
   "source": [
    "# to make capitalize string\n",
    "food.capitalize()"
   ]
  },
  {
   "cell_type": "code",
   "execution_count": 24,
   "id": "c9def3bd",
   "metadata": {},
   "outputs": [
    {
     "data": {
      "text/plain": [
       "'APPLE'"
      ]
     },
     "execution_count": 24,
     "metadata": {},
     "output_type": "execute_result"
    }
   ],
   "source": [
    "# to make uppercase string\n",
    "food.upper()"
   ]
  },
  {
   "cell_type": "code",
   "execution_count": 26,
   "id": "f7ddb0fb",
   "metadata": {},
   "outputs": [
    {
     "data": {
      "text/plain": [
       "'apple'"
      ]
     },
     "execution_count": 26,
     "metadata": {},
     "output_type": "execute_result"
    }
   ],
   "source": [
    "# to make lower case string\n",
    "food.lower()"
   ]
  },
  {
   "cell_type": "code",
   "execution_count": 38,
   "id": "19c4f201",
   "metadata": {
    "scrolled": true
   },
   "outputs": [
    {
     "data": {
      "text/plain": [
       "'Applo'"
      ]
     },
     "execution_count": 38,
     "metadata": {},
     "output_type": "execute_result"
    }
   ],
   "source": [
    "# To replace the letter\n",
    "food.replace(\"e\",\"o\")"
   ]
  },
  {
   "cell_type": "code",
   "execution_count": 39,
   "id": "f4dfeedb",
   "metadata": {},
   "outputs": [
    {
     "data": {
      "text/plain": [
       "'aftab hussain shar balouch'"
      ]
     },
     "execution_count": 39,
     "metadata": {},
     "output_type": "execute_result"
    }
   ],
   "source": [
    "# counting specific alphabet in a string\n",
    "a=\"aftab hussain shar balouch\"\n",
    "a"
   ]
  },
  {
   "cell_type": "code",
   "execution_count": 40,
   "id": "01bb9f9a",
   "metadata": {},
   "outputs": [
    {
     "data": {
      "text/plain": [
       "5"
      ]
     },
     "execution_count": 40,
     "metadata": {},
     "output_type": "execute_result"
    }
   ],
   "source": [
    "a.count(\"a\")"
   ]
  },
  {
   "cell_type": "markdown",
   "id": "5a48ec51",
   "metadata": {},
   "source": [
    "# Finding an index number in string"
   ]
  },
  {
   "cell_type": "code",
   "execution_count": 41,
   "id": "47d3dbdd",
   "metadata": {},
   "outputs": [
    {
     "data": {
      "text/plain": [
       "'aftab hussain shar balouch'"
      ]
     },
     "execution_count": 41,
     "metadata": {},
     "output_type": "execute_result"
    }
   ],
   "source": [
    "a"
   ]
  },
  {
   "cell_type": "code",
   "execution_count": 42,
   "id": "4bb7ff74",
   "metadata": {},
   "outputs": [
    {
     "data": {
      "text/plain": [
       "0"
      ]
     },
     "execution_count": 42,
     "metadata": {},
     "output_type": "execute_result"
    }
   ],
   "source": [
    "a.find(\"a\")"
   ]
  },
  {
   "cell_type": "code",
   "execution_count": 43,
   "id": "e109d447",
   "metadata": {},
   "outputs": [],
   "source": [
    "# split any string\n",
    "b=\"altaf,aftab,mehtab,liaquat\""
   ]
  },
  {
   "cell_type": "code",
   "execution_count": 44,
   "id": "c23d7f2c",
   "metadata": {},
   "outputs": [
    {
     "data": {
      "text/plain": [
       "'altaf,aftab,mehtab,liaquat'"
      ]
     },
     "execution_count": 44,
     "metadata": {},
     "output_type": "execute_result"
    }
   ],
   "source": [
    "b"
   ]
  },
  {
   "cell_type": "code",
   "execution_count": 46,
   "id": "1d613d1b",
   "metadata": {},
   "outputs": [
    {
     "data": {
      "text/plain": [
       "['altaf', 'aftab', 'mehtab', 'liaquat']"
      ]
     },
     "execution_count": 46,
     "metadata": {},
     "output_type": "execute_result"
    }
   ],
   "source": [
    "b.split(\",\")"
   ]
  }
 ],
 "metadata": {
  "kernelspec": {
   "display_name": "Python 3 (ipykernel)",
   "language": "python",
   "name": "python3"
  },
  "language_info": {
   "codemirror_mode": {
    "name": "ipython",
    "version": 3
   },
   "file_extension": ".py",
   "mimetype": "text/x-python",
   "name": "python",
   "nbconvert_exporter": "python",
   "pygments_lexer": "ipython3",
   "version": "3.9.12"
  }
 },
 "nbformat": 4,
 "nbformat_minor": 5
}
