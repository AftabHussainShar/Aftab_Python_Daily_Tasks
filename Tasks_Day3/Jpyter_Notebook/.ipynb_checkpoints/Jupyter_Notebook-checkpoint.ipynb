{
 "cells": [
  {
   "cell_type": "markdown",
   "id": "5f72c09a",
   "metadata": {},
   "source": [
    "# Python ka chilla\n",
    "## Basic of python language"
   ]
  },
  {
   "cell_type": "markdown",
   "id": "f06c7744",
   "metadata": {},
   "source": [
    "## 01_First_Program_VS"
   ]
  },
  {
   "cell_type": "code",
   "execution_count": 1,
   "id": "54267e7e",
   "metadata": {},
   "outputs": [
    {
     "name": "stdout",
     "output_type": "stream",
     "text": [
      "AFTAB HUSAIN SHAR\n",
      "420\n"
     ]
    }
   ],
   "source": [
    "print(\"AFTAB HUSAIN SHAR\")\n",
    "print(400+20)"
   ]
  },
  {
   "cell_type": "markdown",
   "id": "195dd84e",
   "metadata": {},
   "source": [
    "## 02_Operators"
   ]
  },
  {
   "cell_type": "code",
   "execution_count": 2,
   "id": "90cf2a3c",
   "metadata": {},
   "outputs": [
    {
     "name": "stdout",
     "output_type": "stream",
     "text": [
      "6\n",
      "-4\n",
      "9\n",
      "0.8571428571428571\n",
      "0\n",
      "8\n",
      "2\n",
      "2.6\n"
     ]
    }
   ],
   "source": [
    "# Addition\n",
    "print(3+3)\n",
    "\n",
    "#Substraction\n",
    "print(3-7)\n",
    "\n",
    "#Multiplication\n",
    "print(3*3)\n",
    "\n",
    "#Devided\n",
    "print(6/7)\n",
    "#devided with whole nUmbers\n",
    "print(6//7)\n",
    "\n",
    "#Power\n",
    "print(2**3)\n",
    "\n",
    "#Reminder\n",
    "print(6%4)\n",
    "\n",
    "#full Equation\n",
    "print(2+3-4*3/5)"
   ]
  },
  {
   "cell_type": "markdown",
   "id": "28cc5468",
   "metadata": {},
   "source": [
    "## 03_Strings"
   ]
  },
  {
   "cell_type": "code",
   "execution_count": 3,
   "id": "42d336ca",
   "metadata": {},
   "outputs": [
    {
     "name": "stdout",
     "output_type": "stream",
     "text": [
      "Aftab Hussain Shar\n",
      "Aftab Hussain Shar\n",
      "Aftab hussain shar\n"
     ]
    }
   ],
   "source": [
    "#Single Quote\n",
    "print('Aftab Hussain Shar')\n",
    "\n",
    "#Double Qoutes\n",
    "print(\"Aftab Hussain Shar\")\n",
    "\n",
    "#Triple Qoutes\n",
    "print('''Aftab hussain shar''')"
   ]
  },
  {
   "cell_type": "markdown",
   "id": "736ae13d",
   "metadata": {},
   "source": [
    "## 04_Comments"
   ]
  },
  {
   "cell_type": "code",
   "execution_count": null,
   "id": "c4547d03",
   "metadata": {},
   "outputs": [],
   "source": []
  },
  {
   "cell_type": "markdown",
   "id": "4fd03e4b",
   "metadata": {},
   "source": [
    "## 05_Variable"
   ]
  },
  {
   "cell_type": "code",
   "execution_count": 4,
   "id": "3cf3ea19",
   "metadata": {},
   "outputs": [
    {
     "name": "stdout",
     "output_type": "stream",
     "text": [
      "3\n",
      "5\n",
      "<class 'int'>\n",
      "<class 'str'>\n"
     ]
    }
   ],
   "source": [
    "# VAriable= its contains tje specific value\n",
    "x=3\n",
    "print(x)\n",
    "\n",
    "\n",
    "z=\"Aftab hussain shar\"\n",
    "\n",
    "\n",
    "y=x+2\n",
    "print(y)\n",
    "\n",
    "# To know the type\n",
    "type(y)\n",
    "print(type(y))\n",
    "print(type(z))"
   ]
  },
  {
   "cell_type": "markdown",
   "id": "2466232a",
   "metadata": {},
   "source": [
    "## 06_Input_Function"
   ]
  },
  {
   "cell_type": "code",
   "execution_count": null,
   "id": "450d42c6",
   "metadata": {},
   "outputs": [
    {
     "name": "stdout",
     "output_type": "stream",
     "text": [
      "Apple\n"
     ]
    }
   ],
   "source": [
    "Fruit_basket=\"Apple\"\n",
    "print(Fruit_basket)\n",
    "\n",
    "\n",
    "# # input Function Simple\n",
    "# f_Fruit=input(\"Enter Your Favoret fruit\")\n",
    "# print(f_Fruit)\n",
    "\n",
    "\n",
    "# # Input Function 2nd Stage\n",
    "# name=input(\"What is your Name?\")\n",
    "# Greetings=\"Hello!\"\n",
    "# print(Greetings,name)\n",
    "\n",
    "# # Input Function 2 satge way\n",
    "# F_Name=input(\"what is your Father?\")\n",
    "# print(\"Hello your Dad\",F_Name)\n",
    "\n",
    "# Input with 2 Inputs\n",
    "name=input(\"what is your name?\")\n",
    "age=input(\"how old are you?\")\n",
    "greetings=\"Hello!\"\n",
    "\n",
    "print(greetings,name,\",you are still young jani\")"
   ]
  },
  {
   "cell_type": "markdown",
   "id": "a6e2085a",
   "metadata": {},
   "source": [
    "## 07_Logical_Operators"
   ]
  },
  {
   "cell_type": "code",
   "execution_count": null,
   "id": "6f40ee6f",
   "metadata": {},
   "outputs": [],
   "source": [
    "# equal to                  ==\n",
    "# not equal to              !=\n",
    "# less then                 <\n",
    "# grater then               >\n",
    "# equal and less then       <=\n",
    "# equal and greater then    >=\n",
    "\n",
    "\n",
    "\n",
    "print(4!=3)\n",
    "print(3<=3)\n",
    "\n",
    "\n",
    "# FUnction of logical operators\n",
    "\n",
    "name=input(\"What is your name?\")\n",
    "age=input(\"Whats is your age?\")\n",
    "school_age=5\n",
    "# name=int(name)                   ?here i facing issue to convert string to int\n",
    "print(type(name))\n",
    "print(school_age==name)"
   ]
  },
  {
   "cell_type": "markdown",
   "id": "275246cd",
   "metadata": {},
   "source": [
    "## 08_Type_of_Conversion"
   ]
  },
  {
   "cell_type": "code",
   "execution_count": null,
   "id": "e6f8d24d",
   "metadata": {},
   "outputs": [],
   "source": [
    "# x=23        #integeer\n",
    "# x=22.3      #Float\n",
    "x=\"aftab\"   #string\n",
    "\n",
    "print(x,\"This is type:\",type(x))\n",
    "\n",
    "# # Implicit Conversion\n",
    "# age=input(\"what is your age?\")\n",
    "# print(type(age))\n",
    "\n",
    "\n",
    "# # Explicit Converstion\n",
    "# age=input(\"what is your age?\")\n",
    "# age=int(age)\n",
    "# print(type(age)) \n",
    "\n",
    "# name\n",
    "name=input(\"what ois your name\")\n",
    "print(type(int(name)),\" you are still int\")"
   ]
  },
  {
   "cell_type": "markdown",
   "id": "0c9e1416",
   "metadata": {},
   "source": [
    "## 09_if_else&elif"
   ]
  },
  {
   "cell_type": "code",
   "execution_count": null,
   "id": "c9adba7e",
   "metadata": {},
   "outputs": [],
   "source": [
    "# functons od if else elif\n",
    "\n",
    "from ast import If\n",
    "\n",
    "\n",
    "country=input(\"enter your country\")\n",
    "\n",
    "if country==\"pakistan\":\n",
    "    print(\"you are muslim\")\n",
    "elif country==\"india\":\n",
    "    print(\" ypu are hindu\")\n",
    "elif country==\"usa\":\n",
    "    print(\"yoyu are christan\")\n",
    "\n",
    "else:\n",
    "    print(\"I dont know \")\n"
   ]
  },
  {
   "cell_type": "markdown",
   "id": "4def535a",
   "metadata": {},
   "source": [
    "## 10_Function_define"
   ]
  },
  {
   "cell_type": "code",
   "execution_count": null,
   "id": "03cb0087",
   "metadata": {},
   "outputs": [],
   "source": [
    "# print(\"Aftab is bad boy\")\n",
    "# print(\"Aftab is bad boy\")\n",
    "# print(\"Aftab is bad boy\")\n",
    "# print(\"Aftab is bad boy\")\n",
    "# print(\"Aftab is bad boy\")\n",
    "\n",
    "# 1 way\n",
    "def aftab_function():\n",
    "    print(\"Aftab is good boy\")\n",
    "    print(\"Aftab is good boy\")\n",
    "    print(\"Aftab is good boy\")\n",
    "    print(\"Aftab is good boy\")\n",
    "    print(\"Aftab is good boy\")\n",
    "aftab_function()\n",
    "\n",
    "\n",
    "\n",
    "# 2 way\n",
    "def Aftab_function():\n",
    "    text=\"Aftab hussain bad boy\"\n",
    "    print(text)\n",
    "    print(text)\n",
    "    print(text)\n",
    "    print(text)\n",
    "    print(text)\n",
    "Aftab_function()\n",
    "\n",
    "\n",
    "# 3 way\n",
    "def Aftab_function(text):\n",
    "    print(text)\n",
    "    print(text)\n",
    "    print(text)\n",
    "    print(text)\n",
    "    print(text)\n",
    "Aftab_function(\"Aftab hussain is sutho \")\n",
    "\n",
    "\n",
    "\n",
    "def school_cal(age):\n",
    "    if age<5:\n",
    "        print(\" he is still baby\")\n",
    "    elif age>=5:\n",
    "        print(\"eligible for addmision\")\n",
    "    else:\n",
    "        print(\"bye\")\n",
    "    \n",
    "school_cal(5)\n"
   ]
  },
  {
   "cell_type": "markdown",
   "id": "67fedf4e",
   "metadata": {},
   "source": [
    "## 11_Loops"
   ]
  },
  {
   "cell_type": "code",
   "execution_count": null,
   "id": "c195cdcb",
   "metadata": {},
   "outputs": [],
   "source": [
    "# while and for loops are in it\n",
    "\n",
    "# While loop\n",
    "x=0\n",
    "while(x<10):\n",
    "    print(x)\n",
    "    x=x+1\n",
    "\n",
    "\n",
    "\n",
    "# For loop\n",
    "for x in range(12,23):\n",
    "    print(x)\n",
    "\n",
    "\n",
    "# Fuctions in loop\n",
    "days=[\"mon\",\"tue\",'wed',\"thrus\",\"fri\",\"sat\",\"sun\"]\n",
    "for d in days:\n",
    "    if d==\"fri\":break      #Break is used for stop\n",
    "    elif d==\"tue\":continue #continue is use for skip\n",
    "    print(d)"
   ]
  },
  {
   "cell_type": "markdown",
   "id": "b2b67360",
   "metadata": {},
   "source": [
    "## 12_Import_libraries"
   ]
  },
  {
   "cell_type": "code",
   "execution_count": null,
   "id": "2455db4d",
   "metadata": {},
   "outputs": [],
   "source": [
    "\n",
    "# Import Math libarray for math problems\n",
    "import math\n",
    "print(\"value of pi \",math.pi)\n",
    "\n",
    "\n",
    "# Import statics for statics problem\n",
    "import statistics\n",
    "x=[23,24,27,29,27]\n",
    "print(statistics.mean(x))"
   ]
  },
  {
   "cell_type": "markdown",
   "id": "fc471b10",
   "metadata": {},
   "source": [
    "## 13_Trouble_Shooting"
   ]
  },
  {
   "cell_type": "code",
   "execution_count": null,
   "id": "37ec4b81",
   "metadata": {},
   "outputs": [],
   "source": [
    "print(aftab  good with his car)"
   ]
  }
 ],
 "metadata": {
  "kernelspec": {
   "display_name": "Python 3 (ipykernel)",
   "language": "python",
   "name": "python3"
  },
  "language_info": {
   "codemirror_mode": {
    "name": "ipython",
    "version": 3
   },
   "file_extension": ".py",
   "mimetype": "text/x-python",
   "name": "python",
   "nbconvert_exporter": "python",
   "pygments_lexer": "ipython3",
   "version": "3.9.12"
  }
 },
 "nbformat": 4,
 "nbformat_minor": 5
}
