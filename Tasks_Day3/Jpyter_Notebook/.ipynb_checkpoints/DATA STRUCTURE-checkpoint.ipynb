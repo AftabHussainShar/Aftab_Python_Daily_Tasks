{
 "cells": [
  {
   "cell_type": "markdown",
   "id": "281cbb95",
   "metadata": {},
   "source": [
    "# DATA STRUCTURE IN PYTHON\n",
    "- 1-TUPLE\n",
    "- 2-LIST\n",
    "- 3-DICTIONARIES\n",
    "- 4-SET"
   ]
  },
  {
   "cell_type": "markdown",
   "id": "7effd26c",
   "metadata": {},
   "source": [
    "# 1-TUPLE\n",
    "- Open with () brackets\n",
    "- ordered collection\n",
    "- different kinds of elements\n",
    "- ones element stored it can't change"
   ]
  },
  {
   "cell_type": "code",
   "execution_count": 1,
   "id": "6fe8cbe5",
   "metadata": {},
   "outputs": [],
   "source": [
    "tup1=(1,\"aftab\",True,1.2)"
   ]
  },
  {
   "cell_type": "code",
   "execution_count": 2,
   "id": "d19eaab1",
   "metadata": {},
   "outputs": [
    {
     "data": {
      "text/plain": [
       "(1, 'aftab', True, 1.2)"
      ]
     },
     "execution_count": 2,
     "metadata": {},
     "output_type": "execute_result"
    }
   ],
   "source": [
    "tup1"
   ]
  },
  {
   "cell_type": "code",
   "execution_count": 3,
   "id": "09810c8c",
   "metadata": {},
   "outputs": [
    {
     "data": {
      "text/plain": [
       "tuple"
      ]
     },
     "execution_count": 3,
     "metadata": {},
     "output_type": "execute_result"
    }
   ],
   "source": [
    "# Type of variable\n",
    "type(tup1)"
   ]
  },
  {
   "cell_type": "markdown",
   "id": "c8a1972e",
   "metadata": {},
   "source": [
    "## Indexing of tuple"
   ]
  },
  {
   "cell_type": "code",
   "execution_count": 4,
   "id": "8592e3f5",
   "metadata": {},
   "outputs": [
    {
     "data": {
      "text/plain": [
       "'aftab'"
      ]
     },
     "execution_count": 4,
     "metadata": {},
     "output_type": "execute_result"
    }
   ],
   "source": [
    "tup1[1]"
   ]
  },
  {
   "cell_type": "code",
   "execution_count": 5,
   "id": "57cfff96",
   "metadata": {},
   "outputs": [
    {
     "data": {
      "text/plain": [
       "1.2"
      ]
     },
     "execution_count": 5,
     "metadata": {},
     "output_type": "execute_result"
    }
   ],
   "source": [
    "tup1[3]"
   ]
  },
  {
   "cell_type": "code",
   "execution_count": 6,
   "id": "e8b1d82d",
   "metadata": {},
   "outputs": [
    {
     "data": {
      "text/plain": [
       "(1, 'aftab', True, 1.2)"
      ]
     },
     "execution_count": 6,
     "metadata": {},
     "output_type": "execute_result"
    }
   ],
   "source": [
    "# Last Elemnet is exclusive\n",
    "tup1[0:4]"
   ]
  },
  {
   "cell_type": "code",
   "execution_count": 7,
   "id": "aa675aa8",
   "metadata": {},
   "outputs": [
    {
     "data": {
      "text/plain": [
       "4"
      ]
     },
     "execution_count": 7,
     "metadata": {},
     "output_type": "execute_result"
    }
   ],
   "source": [
    "# Length find of element\n",
    "len(tup1)"
   ]
  },
  {
   "cell_type": "code",
   "execution_count": 8,
   "id": "8bfed9e7",
   "metadata": {},
   "outputs": [],
   "source": [
    "tup2=(2,\"aftab\",2.4,False)"
   ]
  },
  {
   "cell_type": "code",
   "execution_count": 9,
   "id": "fd7b22a3",
   "metadata": {},
   "outputs": [
    {
     "data": {
      "text/plain": [
       "(1, 'aftab', True, 1.2, 2, 'aftab', 2.4, False)"
      ]
     },
     "execution_count": 9,
     "metadata": {},
     "output_type": "execute_result"
    }
   ],
   "source": [
    "# Addition of two tuple \n",
    "tup1+tup2"
   ]
  },
  {
   "cell_type": "code",
   "execution_count": 10,
   "id": "d64962ce",
   "metadata": {},
   "outputs": [
    {
     "data": {
      "text/plain": [
       "(1, 'aftab', True, 1.2, 1, 'aftab', True, 1.2, 2, 'aftab', 2.4, False)"
      ]
     },
     "execution_count": 10,
     "metadata": {},
     "output_type": "execute_result"
    }
   ],
   "source": [
    "# Addition of two tuple with repeat\n",
    "tup1*2+tup2"
   ]
  },
  {
   "cell_type": "code",
   "execution_count": 11,
   "id": "0bae6be1",
   "metadata": {},
   "outputs": [],
   "source": [
    "# Minimum value find\n",
    "tup3=(22,44,55,66,77,2)"
   ]
  },
  {
   "cell_type": "code",
   "execution_count": 12,
   "id": "6c2cc7de",
   "metadata": {},
   "outputs": [
    {
     "data": {
      "text/plain": [
       "2"
      ]
     },
     "execution_count": 12,
     "metadata": {},
     "output_type": "execute_result"
    }
   ],
   "source": [
    "min(tup3)"
   ]
  },
  {
   "cell_type": "code",
   "execution_count": 13,
   "id": "b132fb47",
   "metadata": {},
   "outputs": [
    {
     "data": {
      "text/plain": [
       "77"
      ]
     },
     "execution_count": 13,
     "metadata": {},
     "output_type": "execute_result"
    }
   ],
   "source": [
    "# MAximum value find\n",
    "max(tup3)"
   ]
  },
  {
   "cell_type": "markdown",
   "id": "50033d19",
   "metadata": {},
   "source": [
    "# 2-LIST\n",
    "- Open with [] brackets\n",
    "- ordered collection\n",
    "- ones element stored it can change"
   ]
  },
  {
   "cell_type": "code",
   "execution_count": 14,
   "id": "de4032a8",
   "metadata": {},
   "outputs": [
    {
     "data": {
      "text/plain": [
       "[1, 4, 'aftab', False, 3.4]"
      ]
     },
     "execution_count": 14,
     "metadata": {},
     "output_type": "execute_result"
    }
   ],
   "source": [
    "list1=[1,4,\"aftab\",False,3.4]\n",
    "list1"
   ]
  },
  {
   "cell_type": "code",
   "execution_count": 15,
   "id": "ace5928b",
   "metadata": {},
   "outputs": [
    {
     "data": {
      "text/plain": [
       "list"
      ]
     },
     "execution_count": 15,
     "metadata": {},
     "output_type": "execute_result"
    }
   ],
   "source": [
    "type(list1)"
   ]
  },
  {
   "cell_type": "code",
   "execution_count": 16,
   "id": "c361e285",
   "metadata": {},
   "outputs": [
    {
     "data": {
      "text/plain": [
       "5"
      ]
     },
     "execution_count": 16,
     "metadata": {},
     "output_type": "execute_result"
    }
   ],
   "source": [
    "len(list1)"
   ]
  },
  {
   "cell_type": "code",
   "execution_count": 17,
   "id": "669bcc32",
   "metadata": {},
   "outputs": [],
   "source": [
    "list2=[2,\"shar\",1.3,True]"
   ]
  },
  {
   "cell_type": "code",
   "execution_count": 18,
   "id": "17906d04",
   "metadata": {},
   "outputs": [
    {
     "data": {
      "text/plain": [
       "[1, 4, 'aftab', False, 3.4, 2, 'shar', 1.3, True]"
      ]
     },
     "execution_count": 18,
     "metadata": {},
     "output_type": "execute_result"
    }
   ],
   "source": [
    "list1+list2"
   ]
  },
  {
   "cell_type": "code",
   "execution_count": 19,
   "id": "35f292de",
   "metadata": {},
   "outputs": [
    {
     "data": {
      "text/plain": [
       "[2, 'shar', 1.3, True, 2, 'shar', 1.3, True]"
      ]
     },
     "execution_count": 19,
     "metadata": {},
     "output_type": "execute_result"
    }
   ],
   "source": [
    "list2*2"
   ]
  },
  {
   "cell_type": "code",
   "execution_count": 20,
   "id": "6b707aa3",
   "metadata": {},
   "outputs": [
    {
     "data": {
      "text/plain": [
       "[3.4, False, 'aftab', 4, 1]"
      ]
     },
     "execution_count": 20,
     "metadata": {},
     "output_type": "execute_result"
    }
   ],
   "source": [
    "# revrse the list\n",
    "list1.reverse()\n",
    "list1"
   ]
  },
  {
   "cell_type": "code",
   "execution_count": 21,
   "id": "6ed96698",
   "metadata": {},
   "outputs": [
    {
     "data": {
      "text/plain": [
       "[3.4, False, 'aftab', 4, 1, 'SHAR HOUSE']"
      ]
     },
     "execution_count": 21,
     "metadata": {},
     "output_type": "execute_result"
    }
   ],
   "source": [
    "# add new element \n",
    "list1.append('SHAR HOUSE')\n",
    "list1"
   ]
  },
  {
   "cell_type": "code",
   "execution_count": 23,
   "id": "db1dff6a",
   "metadata": {
    "scrolled": true
   },
   "outputs": [
    {
     "data": {
      "text/plain": [
       "1"
      ]
     },
     "execution_count": 23,
     "metadata": {},
     "output_type": "execute_result"
    }
   ],
   "source": [
    "# to count element\n",
    "list1.count(4)"
   ]
  },
  {
   "cell_type": "code",
   "execution_count": 25,
   "id": "ea6a547e",
   "metadata": {},
   "outputs": [
    {
     "data": {
      "text/plain": [
       "[23, 12, 55, 33, 66, 88, 21]"
      ]
     },
     "execution_count": 25,
     "metadata": {},
     "output_type": "execute_result"
    }
   ],
   "source": [
    "list3=[23,12,55,33,66,88,21]\n",
    "list3"
   ]
  },
  {
   "cell_type": "code",
   "execution_count": 26,
   "id": "d9e188e1",
   "metadata": {},
   "outputs": [
    {
     "data": {
      "text/plain": [
       "[12, 21, 23, 33, 55, 66, 88]"
      ]
     },
     "execution_count": 26,
     "metadata": {},
     "output_type": "execute_result"
    }
   ],
   "source": [
    "# sorting the list\n",
    "list3.sort()\n",
    "list3"
   ]
  },
  {
   "cell_type": "code",
   "execution_count": 27,
   "id": "ced94de5",
   "metadata": {},
   "outputs": [
    {
     "data": {
      "text/plain": [
       "[12, 21, 23, 33, 55, 66, 88, 12, 21, 23, 33, 55, 66, 88]"
      ]
     },
     "execution_count": 27,
     "metadata": {},
     "output_type": "execute_result"
    }
   ],
   "source": [
    "list3*2"
   ]
  },
  {
   "cell_type": "markdown",
   "id": "cd914954",
   "metadata": {},
   "source": [
    "# 3-DICTIONRIES\n",
    "- Open with {} brackets\n",
    "- unordered collection\n",
    "- Key and Value\n",
    "- different kinds of elements\n",
    "- ones element stored it can change"
   ]
  },
  {
   "cell_type": "code",
   "execution_count": 28,
   "id": "80b12761",
   "metadata": {},
   "outputs": [
    {
     "data": {
      "text/plain": [
       "{'lays': 10, 'carlez': 5, 'bottle': 30, 'toffe': 5}"
      ]
     },
     "execution_count": 28,
     "metadata": {},
     "output_type": "execute_result"
    }
   ],
   "source": [
    "dic={\"lays\":10,\"carlez\":5,\"bottle\":30,\"toffe\":5}\n",
    "dic"
   ]
  },
  {
   "cell_type": "code",
   "execution_count": 29,
   "id": "6b98462d",
   "metadata": {},
   "outputs": [
    {
     "data": {
      "text/plain": [
       "dict"
      ]
     },
     "execution_count": 29,
     "metadata": {},
     "output_type": "execute_result"
    }
   ],
   "source": [
    "type(dic)"
   ]
  },
  {
   "cell_type": "code",
   "execution_count": 33,
   "id": "969f7c17",
   "metadata": {},
   "outputs": [
    {
     "data": {
      "text/plain": [
       "dict_keys(['lays', 'carlez', 'bottle', 'toffe'])"
      ]
     },
     "execution_count": 33,
     "metadata": {},
     "output_type": "execute_result"
    }
   ],
   "source": [
    "#EXTRACT DATA KEY\n",
    "keys=dic.keys()\n",
    "keys"
   ]
  },
  {
   "cell_type": "code",
   "execution_count": 34,
   "id": "96fad9e3",
   "metadata": {},
   "outputs": [
    {
     "data": {
      "text/plain": [
       "dict_values([10, 5, 30, 5])"
      ]
     },
     "execution_count": 34,
     "metadata": {},
     "output_type": "execute_result"
    }
   ],
   "source": [
    "#EXTRACT DATA VALUES\n",
    "value=dic.values()\n",
    "value"
   ]
  },
  {
   "cell_type": "code",
   "execution_count": null,
   "id": "138c7fb6",
   "metadata": {},
   "outputs": [],
   "source": [
    "# ADD THE DATA\n",
    "dic.update()"
   ]
  },
  {
   "cell_type": "code",
   "execution_count": 36,
   "id": "23f82439",
   "metadata": {},
   "outputs": [
    {
     "data": {
      "text/plain": [
       "{'lays': 20, 'carlez': 5, 'bottle': 30, 'toffe': 5}"
      ]
     },
     "execution_count": 36,
     "metadata": {},
     "output_type": "execute_result"
    }
   ],
   "source": [
    "# UBDATE THE VALUE\n",
    "dic[\"lays\"]=20\n",
    "dic"
   ]
  },
  {
   "cell_type": "code",
   "execution_count": 37,
   "id": "8467f609",
   "metadata": {},
   "outputs": [],
   "source": [
    "dic1={\"machis\":5,\"mirchi\":20}"
   ]
  },
  {
   "cell_type": "code",
   "execution_count": 40,
   "id": "f56f36d6",
   "metadata": {},
   "outputs": [
    {
     "data": {
      "text/plain": [
       "{'lays': 20, 'carlez': 5, 'bottle': 30, 'toffe': 5, 'machis': 5, 'mirchi': 20}"
      ]
     },
     "execution_count": 40,
     "metadata": {},
     "output_type": "execute_result"
    }
   ],
   "source": [
    "# ADDITION OF TWO DICTIONARIES\n",
    "dic.update(dic1)\n",
    "dic"
   ]
  },
  {
   "cell_type": "markdown",
   "id": "97dd3c1f",
   "metadata": {},
   "source": [
    "# 4-SET\n",
    "- Open with {} brackets\n",
    "- unordered collection\n",
    "- NO repeat element"
   ]
  },
  {
   "cell_type": "code",
   "execution_count": 42,
   "id": "909fd59d",
   "metadata": {},
   "outputs": [
    {
     "data": {
      "text/plain": [
       "{1, 22, 77, 'aftab', 'shar'}"
      ]
     },
     "execution_count": 42,
     "metadata": {},
     "output_type": "execute_result"
    }
   ],
   "source": [
    "s={1,77,\"aftab\",\"shar\",22}\n",
    "s"
   ]
  },
  {
   "cell_type": "code",
   "execution_count": 44,
   "id": "d984ff17",
   "metadata": {
    "scrolled": true
   },
   "outputs": [
    {
     "data": {
      "text/plain": [
       "{1, 22, 77, 'ALi', 'aftab', 'shar'}"
      ]
     },
     "execution_count": 44,
     "metadata": {},
     "output_type": "execute_result"
    }
   ],
   "source": [
    "# add the element\n",
    "s.add(\"ALi\")\n",
    "s"
   ]
  },
  {
   "cell_type": "code",
   "execution_count": 45,
   "id": "a3da3fe4",
   "metadata": {},
   "outputs": [
    {
     "data": {
      "text/plain": [
       "{1, 22, 77, 'ALi', 'aftab', 'shar'}"
      ]
     },
     "execution_count": 45,
     "metadata": {},
     "output_type": "execute_result"
    }
   ],
   "source": [
    "# Duplicate not allowed\n",
    "s.add(\"ALi\")\n",
    "s\n"
   ]
  }
 ],
 "metadata": {
  "kernelspec": {
   "display_name": "Python 3 (ipykernel)",
   "language": "python",
   "name": "python3"
  },
  "language_info": {
   "codemirror_mode": {
    "name": "ipython",
    "version": 3
   },
   "file_extension": ".py",
   "mimetype": "text/x-python",
   "name": "python",
   "nbconvert_exporter": "python",
   "pygments_lexer": "ipython3",
   "version": "3.9.12"
  }
 },
 "nbformat": 4,
 "nbformat_minor": 5
}
