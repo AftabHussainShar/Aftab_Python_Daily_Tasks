{
 "cells": [
  {
   "cell_type": "code",
   "execution_count": 1,
   "id": "c1070705",
   "metadata": {},
   "outputs": [],
   "source": [
    "# Calculate BMI\n",
    "# input Height\n",
    "# input name\n",
    "# input weight\n",
    "# calculate the BMI\n",
    "# print the BMI"
   ]
  },
  {
   "cell_type": "code",
   "execution_count": 2,
   "id": "98e939ca",
   "metadata": {
    "scrolled": true
   },
   "outputs": [
    {
     "name": "stdout",
     "output_type": "stream",
     "text": [
      "ENTER YOUR HEIGHT?  5.6\n"
     ]
    }
   ],
   "source": [
    "height=input(\"ENTER YOUR HEIGHT?  \")"
   ]
  },
  {
   "cell_type": "code",
   "execution_count": 3,
   "id": "31a9a251",
   "metadata": {},
   "outputs": [
    {
     "name": "stdout",
     "output_type": "stream",
     "text": [
      "ENTER YOUR NAME?  aftab\n"
     ]
    }
   ],
   "source": [
    "name=input(\"ENTER YOUR NAME?  \")"
   ]
  },
  {
   "cell_type": "code",
   "execution_count": 4,
   "id": "87f7b58b",
   "metadata": {
    "scrolled": true
   },
   "outputs": [
    {
     "name": "stdout",
     "output_type": "stream",
     "text": [
      "WHAT IS YOUR WEIGHT?  55\n"
     ]
    }
   ],
   "source": [
    "weight=input(\"WHAT IS YOUR WEIGHT?  \")"
   ]
  },
  {
   "cell_type": "code",
   "execution_count": 5,
   "id": "e78d1f5a",
   "metadata": {},
   "outputs": [],
   "source": [
    "height=float(height)"
   ]
  },
  {
   "cell_type": "code",
   "execution_count": 6,
   "id": "fb029dfd",
   "metadata": {},
   "outputs": [],
   "source": [
    "weight=float(weight)"
   ]
  },
  {
   "cell_type": "code",
   "execution_count": 7,
   "id": "420c4d1a",
   "metadata": {},
   "outputs": [
    {
     "data": {
      "text/plain": [
       "1.7538265306122451"
      ]
     },
     "execution_count": 7,
     "metadata": {},
     "output_type": "execute_result"
    }
   ],
   "source": [
    "bmi=weight/height**2\n",
    "bmi"
   ]
  },
  {
   "cell_type": "code",
   "execution_count": 8,
   "id": "8e7d6d4b",
   "metadata": {},
   "outputs": [
    {
     "name": "stdout",
     "output_type": "stream",
     "text": [
      "aftab  HELLO! YOUR BMI IS  1.7538265306122451\n"
     ]
    }
   ],
   "source": [
    "print(name,\" HELLO! YOUR BMI IS \",bmi)"
   ]
  }
 ],
 "metadata": {
  "kernelspec": {
   "display_name": "Python 3 (ipykernel)",
   "language": "python",
   "name": "python3"
  },
  "language_info": {
   "codemirror_mode": {
    "name": "ipython",
    "version": 3
   },
   "file_extension": ".py",
   "mimetype": "text/x-python",
   "name": "python",
   "nbconvert_exporter": "python",
   "pygments_lexer": "ipython3",
   "version": "3.9.12"
  }
 },
 "nbformat": 4,
 "nbformat_minor": 5
}
