{
 "cells": [
  {
   "cell_type": "code",
   "execution_count": 1,
   "id": "23fa9091",
   "metadata": {},
   "outputs": [],
   "source": [
    "# Calculate BMI\n",
    "# input Height\n",
    "# input name\n",
    "# input weight\n",
    "# calculate the BMI\n",
    "# print the BMI"
   ]
  },
  {
   "cell_type": "code",
   "execution_count": 2,
   "id": "c5393b57",
   "metadata": {
    "scrolled": true
   },
   "outputs": [
    {
     "name": "stdout",
     "output_type": "stream",
     "text": [
      "ENTER YOUR HEIGHT?  5.6\n"
     ]
    }
   ],
   "source": [
    "height=input(\"ENTER YOUR HEIGHT?  \")"
   ]
  },
  {
   "cell_type": "code",
   "execution_count": 3,
   "id": "ddaa55dc",
   "metadata": {},
   "outputs": [
    {
     "name": "stdout",
     "output_type": "stream",
     "text": [
      "ENTER YOUR NAME?  aftab\n"
     ]
    }
   ],
   "source": [
    "name=input(\"ENTER YOUR NAME?  \")"
   ]
  },
  {
   "cell_type": "code",
   "execution_count": 4,
   "id": "52a35da4",
   "metadata": {
    "scrolled": true
   },
   "outputs": [
    {
     "name": "stdout",
     "output_type": "stream",
     "text": [
      "WHAT IS YOUR WEIGHT?  55\n"
     ]
    }
   ],
   "source": [
    "weight=input(\"WHAT IS YOUR WEIGHT?  \")"
   ]
  },
  {
   "cell_type": "code",
   "execution_count": 5,
   "id": "5081ee18",
   "metadata": {},
   "outputs": [],
   "source": [
    "height=float(height)"
   ]
  },
  {
   "cell_type": "code",
   "execution_count": 6,
   "id": "6472197b",
   "metadata": {},
   "outputs": [],
   "source": [
    "weight=float(weight)"
   ]
  },
  {
   "cell_type": "code",
   "execution_count": 7,
   "id": "781cf4c4",
   "metadata": {},
   "outputs": [
    {
     "data": {
      "text/plain": [
       "1.7538265306122451"
      ]
     },
     "execution_count": 7,
     "metadata": {},
     "output_type": "execute_result"
    }
   ],
   "source": [
    "bmi=weight/height**2\n",
    "bmi"
   ]
  },
  {
   "cell_type": "code",
   "execution_count": 8,
   "id": "5d75a87b",
   "metadata": {},
   "outputs": [
    {
     "name": "stdout",
     "output_type": "stream",
     "text": [
      "aftab  HELLO! YOUR BMI IS  1.7538265306122451\n"
     ]
    }
   ],
   "source": [
    "print(name,\" HELLO! YOUR BMI IS \",bmi)"
   ]
  }
 ],
 "metadata": {
  "kernelspec": {
   "display_name": "Python 3 (ipykernel)",
   "language": "python",
   "name": "python3"
  },
  "language_info": {
   "codemirror_mode": {
    "name": "ipython",
    "version": 3
   },
   "file_extension": ".py",
   "mimetype": "text/x-python",
   "name": "python",
   "nbconvert_exporter": "python",
   "pygments_lexer": "ipython3",
   "version": "3.9.12"
  }
 },
 "nbformat": 4,
 "nbformat_minor": 5
}
