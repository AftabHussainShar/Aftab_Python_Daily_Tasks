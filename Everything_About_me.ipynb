{
 "cells": [
  {
   "cell_type": "markdown",
   "metadata": {},
   "source": [
    "# Participant\n",
    "Title=\"Student\"\n",
    "\n",
    "Name=\"Aftab Hussain Shar\"\n",
    "\n",
    "Email=\"a03003132335@gmail.com\"\n",
    "\n",
    "\n",
    "Whatsapp=\"+923133473749\""
   ]
  }
 ],
 "metadata": {
  "language_info": {
   "name": "python"
  },
  "orig_nbformat": 4
 },
 "nbformat": 4,
 "nbformat_minor": 2
}
