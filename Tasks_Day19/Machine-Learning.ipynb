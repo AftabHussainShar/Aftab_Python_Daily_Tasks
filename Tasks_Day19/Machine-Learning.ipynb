{
 "cells": [
  {
   "cell_type": "markdown",
   "metadata": {},
   "source": [
    "# Types of Machine Learning "
   ]
  },
  {
   "cell_type": "markdown",
   "metadata": {},
   "source": [
    "## 1. Supervised Learning\n",
    "   \n",
    "- Works as supervised\n",
    "- Teacher teaches\n",
    "- pridiction\n",
    "- outcomes"
   ]
  },
  {
   "cell_type": "markdown",
   "metadata": {},
   "source": [
    ">Algorithms\n",
    "- Polynomial regression\n",
    "- Random forest\n",
    "- Linear regression\n",
    "- Logistic regression\n",
    "- Decision trees\n",
    "- K-nearest neighbors\n",
    "- Naive Bayes"
   ]
  },
  {
   "cell_type": "markdown",
   "metadata": {},
   "source": [
    "## 2. Unsupervised Learning\n",
    "\n",
    "- Works not supervised\n",
    "- Not Teacher teaches\n",
    "- self Learning\n",
    "- No LAbeling\n",
    "- find paterns by itself\n",
    "- pridiction\n",
    "- outcomes"
   ]
  },
  {
   "cell_type": "markdown",
   "metadata": {},
   "source": [
    ">Algorithms\n",
    "- Partial least squares\n",
    "- Fuzzy means\n",
    "- Singular value decomposition\n",
    "- K-means clustering\n",
    "- Apriori\n",
    "- Hierarchical clustering\n",
    "- Principal component analysis"
   ]
  },
  {
   "cell_type": "markdown",
   "metadata": {},
   "source": [
    "## 3. Semi-supervised learning: \n",
    "- Mixture Of 1 and 2\n",
    "- labelled data and most not "
   ]
  },
  {
   "cell_type": "markdown",
   "metadata": {},
   "source": [
    "## 4. Reinforcement Learning\n",
    "- Hit and trial Learning\n",
    "- learn from mistakes\n",
    "- Reward and punishment\n",
    "- priduction based on Reward and punishment\n",
    "- Depends on feedback"
   ]
  },
  {
   "cell_type": "markdown",
   "metadata": {},
   "source": [
    ">Algorithms\n",
    "- Model-Free Reinforcement Learming\n",
    "    - Policy Optimization\n",
    "    - Q-Learning\n",
    "- Model-Based Reinforcement Learning\n",
    "    - Learn the Model\n",
    "    - Given the Model"
   ]
  }
 ],
 "metadata": {
  "kernelspec": {
   "display_name": "Python 3.10.5 64-bit",
   "language": "python",
   "name": "python3"
  },
  "language_info": {
   "name": "python",
   "version": "3.10.5"
  },
  "orig_nbformat": 4,
  "vscode": {
   "interpreter": {
    "hash": "cd0d625a77b8246c131353b3385c490756d1d08de651ea9d3b5f5a0587dfbc4f"
   }
  }
 },
 "nbformat": 4,
 "nbformat_minor": 2
}
