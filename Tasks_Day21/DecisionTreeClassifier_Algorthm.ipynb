{
 "cells": [
  {
   "cell_type": "markdown",
   "metadata": {},
   "source": [
    "# DecisionTreeClassifier"
   ]
  },
  {
   "cell_type": "code",
   "execution_count": null,
   "metadata": {},
   "outputs": [],
   "source": [
    "#import libraries\n",
    "import pandas as pd\n",
    "df=pd.read_csv(\"\")\n",
    "df.head()"
   ]
  },
  {
   "cell_type": "code",
   "execution_count": null,
   "metadata": {},
   "outputs": [],
   "source": [
    "# Replacing the catogorical values to number\n",
    "df[\"gender\"]=df[\"gender\"].replace(\"Male\",1)\n",
    "df[\"gender\"]=df[\"gender\"].replace(\"Female\",1)"
   ]
  },
  {
   "cell_type": "code",
   "execution_count": null,
   "metadata": {},
   "outputs": [],
   "source": [
    "# creating the features and output\n",
    "x=df[[\"weight\",\"gender\"]]\n",
    "y=df[\"Likeness\"]"
   ]
  },
  {
   "cell_type": "code",
   "execution_count": null,
   "metadata": {},
   "outputs": [],
   "source": [
    "# Konowing variable head\n",
    "x.head()"
   ]
  },
  {
   "cell_type": "code",
   "execution_count": null,
   "metadata": {},
   "outputs": [],
   "source": [
    "y.head()"
   ]
  },
  {
   "cell_type": "code",
   "execution_count": null,
   "metadata": {},
   "outputs": [],
   "source": [
    "#machine learning algorthm \n",
    "from sklearn.tree import DecisionTreeClassifier\n",
    "\n",
    "# create Model and fit our model\n",
    "model=DecisionTreeClassifier().fit(x,y )\n",
    "\n",
    "# Prediction\n",
    "model.predict([[23,0]])"
   ]
  },
  {
   "cell_type": "code",
   "execution_count": null,
   "metadata": {},
   "outputs": [],
   "source": [
    " # how to measure the accuracy of our model\n",
    " #split the datset test and train\n",
    " from sklearn.model_selection import train_test_split\n",
    " from sklearn.metrics import accuracy_score\n",
    "\n",
    " x_train,x_test,y_train, y_test=train_test_split(x,y,test_size=0.2) \n",
    " \n",
    " #ceate model\n",
    " model=DecisionTreeClassifier()\n",
    " \n",
    " #fiting a model\n",
    " model.fit(x_train,y_train)\n",
    "\n",
    " predicted_values=model.predict(x_test)\n",
    " predicted_values\n",
    "\n",
    "#checking\n",
    "score=accuracy_score(y_test,predicted_values)"
   ]
  },
  {
   "cell_type": "code",
   "execution_count": null,
   "metadata": {},
   "outputs": [],
   "source": [
    "# how to train model and save the model\n",
    "import pandas as pd\n",
    "from sklearn.tree import DecisionTreeClassifier\n",
    "import joblib\n",
    "\n",
    "model=DecisionTreeClassifier(x,y)\n",
    "joblib.dump(model,\"foodie.joblib\")"
   ]
  },
  {
   "cell_type": "code",
   "execution_count": null,
   "metadata": {},
   "outputs": [],
   "source": [
    "# hoew to import and stored or saved on our data? assignment"
   ]
  },
  {
   "cell_type": "code",
   "execution_count": 1,
   "metadata": {},
   "outputs": [
    {
     "ename": "NameError",
     "evalue": "name 'DecisionTreeClassifier' is not defined",
     "output_type": "error",
     "traceback": [
      "\u001b[1;31m---------------------------------------------------------------------------\u001b[0m",
      "\u001b[1;31mNameError\u001b[0m                                 Traceback (most recent call last)",
      "\u001b[1;32mc:\\Users\\Aftab\\Desktop\\Tasks_Day21\\desicion_tree_Algorthm.ipynb Cell 10\u001b[0m in \u001b[0;36m<cell line: 3>\u001b[1;34m()\u001b[0m\n\u001b[0;32m      <a href='vscode-notebook-cell:/c%3A/Users/Aftab/Desktop/Tasks_Day21/desicion_tree_Algorthm.ipynb#ch0000009?line=0'>1</a>\u001b[0m \u001b[39m# Graph\u001b[39;00m\n\u001b[0;32m      <a href='vscode-notebook-cell:/c%3A/Users/Aftab/Desktop/Tasks_Day21/desicion_tree_Algorthm.ipynb#ch0000009?line=1'>2</a>\u001b[0m \u001b[39mfrom\u001b[39;00m \u001b[39msklearn\u001b[39;00m \u001b[39mimport\u001b[39;00m tree\n\u001b[1;32m----> <a href='vscode-notebook-cell:/c%3A/Users/Aftab/Desktop/Tasks_Day21/desicion_tree_Algorthm.ipynb#ch0000009?line=2'>3</a>\u001b[0m model\u001b[39m=\u001b[39mDecisionTreeClassifier()\u001b[39m.\u001b[39mfit(x,y)\n\u001b[0;32m      <a href='vscode-notebook-cell:/c%3A/Users/Aftab/Desktop/Tasks_Day21/desicion_tree_Algorthm.ipynb#ch0000009?line=4'>5</a>\u001b[0m \u001b[39m#graphical evaluted/look into what happend\u001b[39;00m\n\u001b[0;32m      <a href='vscode-notebook-cell:/c%3A/Users/Aftab/Desktop/Tasks_Day21/desicion_tree_Algorthm.ipynb#ch0000009?line=5'>6</a>\u001b[0m tree\u001b[39m.\u001b[39mexport\n",
      "\u001b[1;31mNameError\u001b[0m: name 'DecisionTreeClassifier' is not defined"
     ]
    }
   ],
   "source": [
    "# Graph\n",
    "from sklearn import tree\n",
    "model=DecisionTreeClassifier().fit(x,y)\n",
    "\n",
    "#graphical evaluted/look into what happend\n",
    "tree.export_graphviz(model,out_file=\"foodie.dot\",feature_names=['age','gender'],class_names=sorted(y.unique()),label='all',rounded=True,filled=True)"
   ]
  },
  {
   "cell_type": "code",
   "execution_count": null,
   "metadata": {},
   "outputs": [],
   "source": [
    "# Assignment\n",
    "# creating the features and output\n",
    "x=df[[\"weight\",\"gender\"]]\n",
    "y=df[\"Likeness\"]"
   ]
  }
 ],
 "metadata": {
  "kernelspec": {
   "display_name": "Python 3.10.5 64-bit",
   "language": "python",
   "name": "python3"
  },
  "language_info": {
   "codemirror_mode": {
    "name": "ipython",
    "version": 3
   },
   "file_extension": ".py",
   "mimetype": "text/x-python",
   "name": "python",
   "nbconvert_exporter": "python",
   "pygments_lexer": "ipython3",
   "version": "3.10.5"
  },
  "orig_nbformat": 4,
  "vscode": {
   "interpreter": {
    "hash": "cd0d625a77b8246c131353b3385c490756d1d08de651ea9d3b5f5a0587dfbc4f"
   }
  }
 },
 "nbformat": 4,
 "nbformat_minor": 2
}
